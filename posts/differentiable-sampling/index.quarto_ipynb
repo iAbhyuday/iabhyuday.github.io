{
  "cells": [
    {
      "cell_type": "markdown",
      "metadata": {},
      "source": [
        "---\n",
        "title: \"Differentiable Sampling from Discrete Distribution\"\n",
        "date: \"2024-12-23\"\n",
        "author: \"Abhyuday\"\n",
        "categories: \\[code\\]\n",
        "---\n",
        "\n",
        "\n",
        "\n",
        "\n",
        "# What is Discrete Sampling\n",
        "\n",
        "Discrete sampling refers to the process of selecting value of a random variable based on a discrete probability distribution.\n"
      ],
      "id": "c0dd0d24"
    },
    {
      "cell_type": "code",
      "metadata": {},
      "source": [
        "import matplolib.pyplot as plt\n",
        "\n",
        "x = [\"cat\", \"dog\", \"horse\", \"elephant\"]\n",
        "y = [0.6, 0.2, 0.1, 0.1]\n",
        "plt.plot(x,y)"
      ],
      "id": "e5dfe5c9",
      "execution_count": null,
      "outputs": []
    }
  ],
  "metadata": {
    "kernelspec": {
      "display_name": "Python 3",
      "language": "python",
      "name": "python3"
    }
  },
  "nbformat": 4,
  "nbformat_minor": 5
}